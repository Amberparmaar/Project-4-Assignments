{
  "nbformat": 4,
  "nbformat_minor": 0,
  "metadata": {
    "colab": {
      "provenance": [],
      "authorship_tag": "ABX9TyNulrj/M7INF2uneomjey0b",
      "include_colab_link": true
    },
    "kernelspec": {
      "name": "python3",
      "display_name": "Python 3"
    },
    "language_info": {
      "name": "python"
    }
  },
  "cells": [
    {
      "cell_type": "markdown",
      "metadata": {
        "id": "view-in-github",
        "colab_type": "text"
      },
      "source": [
        "<a href=\"https://colab.research.google.com/github/Amberparmaar/Project-4-Assignments/blob/main/04_dictionaries.ipynb\" target=\"_parent\"><img src=\"https://colab.research.google.com/assets/colab-badge.svg\" alt=\"Open In Colab\"/></a>"
      ]
    },
    {
      "cell_type": "markdown",
      "source": [
        "00_count_nums"
      ],
      "metadata": {
        "id": "JPBHOElRT1ed"
      }
    },
    {
      "cell_type": "code",
      "source": [
        "from IPython.display import display, HTML\n",
        "\n",
        "# Function to display the input in blue color\n",
        "def input_in_blue():\n",
        "    display(HTML('<span style=\"color:blue;\">Enter a number: </span>'))\n",
        "    return input()\n",
        "\n",
        "# Function to count the occurrences of each number\n",
        "def count_numbers():\n",
        "    number_count = {}  # Dictionary to store the count of each number\n",
        "\n",
        "    while True:\n",
        "        user_input = input_in_blue()  # Get the input with blue-colored prompt\n",
        "\n",
        "        # If user presses Enter without entering anything, exit the loop\n",
        "        if user_input == \"\":\n",
        "            break\n",
        "\n",
        "        try:\n",
        "            # Convert the input to an integer\n",
        "            number = int(user_input)\n",
        "\n",
        "            # Update the count in the dictionary\n",
        "            if number in number_count:\n",
        "                number_count[number] += 1\n",
        "            else:\n",
        "                number_count[number] = 1\n",
        "\n",
        "        except ValueError:\n",
        "            # Handle invalid input that is not a number\n",
        "            print(\"Please enter a valid number.\")\n",
        "\n",
        "    # Print the count of each number\n",
        "    for number, count in number_count.items():\n",
        "        print(f\"{number} appears {count} times.\")\n",
        "\n",
        "# Main program\n",
        "if __name__ == \"__main__\":\n",
        "    count_numbers()\n"
      ],
      "metadata": {
        "colab": {
          "base_uri": "https://localhost:8080/",
          "height": 53
        },
        "id": "slj1Sk5OVxlZ",
        "outputId": "b097c432-4361-4658-a5ec-240eba66e94d"
      },
      "execution_count": null,
      "outputs": [
        {
          "output_type": "display_data",
          "data": {
            "text/plain": [
              "<IPython.core.display.HTML object>"
            ],
            "text/html": [
              "<span style=\"color:blue;\">Enter a number: </span>"
            ]
          },
          "metadata": {}
        }
      ]
    },
    {
      "cell_type": "markdown",
      "source": [
        "01_phonebook"
      ],
      "metadata": {
        "id": "pz7Y4x9lWApF"
      }
    },
    {
      "cell_type": "code",
      "source": [
        "# Function to display the phonebook\n",
        "def display_phonebook(phonebook):\n",
        "    if phonebook:\n",
        "        print(\"\\nPhonebook Contacts:\")\n",
        "        for name, number in phonebook.items():\n",
        "            print(f\"{name}: {number}\")\n",
        "    else:\n",
        "        print(\"The phonebook is empty.\")\n",
        "\n",
        "# Function to add a contact to the phonebook\n",
        "def add_contact(phonebook):\n",
        "    name = input(\"Enter the name of the contact: \")\n",
        "    number = input(f\"Enter the phone number for {name}: \")\n",
        "\n",
        "    phonebook[name] = number\n",
        "    print(f\"Contact for {name} added successfully.\")\n",
        "\n",
        "# Function to search for a contact in the phonebook\n",
        "def search_contact(phonebook):\n",
        "    name = input(\"Enter the name of the contact you want to search for: \")\n",
        "\n",
        "    if name in phonebook:\n",
        "        print(f\"{name}'s phone number is {phonebook[name]}.\")\n",
        "    else:\n",
        "        print(f\"Sorry, {name} is not in the phonebook.\")\n",
        "\n",
        "# Main program\n",
        "def phonebook_program():\n",
        "    phonebook = {}  # Initialize an empty dictionary to store contacts\n",
        "\n",
        "    while True:\n",
        "        print(\"\\nPhonebook Menu:\")\n",
        "        print(\"1. Add a contact\")\n",
        "        print(\"2. Search for a contact\")\n",
        "        print(\"3. Display all contacts\")\n",
        "        print(\"4. Exit\")\n",
        "\n",
        "        choice = input(\"Choose an option (1-4): \")\n",
        "\n",
        "        if choice == '1':\n",
        "            add_contact(phonebook)\n",
        "        elif choice == '2':\n",
        "            search_contact(phonebook)\n",
        "        elif choice == '3':\n",
        "            display_phonebook(phonebook)\n",
        "        elif choice == '4':\n",
        "            print(\"Exiting the phonebook program.\")\n",
        "            break\n",
        "        else:\n",
        "            print(\"Invalid choice. Please choose a valid option.\")\n",
        "\n",
        "# Run the phonebook program\n",
        "if __name__ == \"__main__\":\n",
        "    phonebook_program()\n"
      ],
      "metadata": {
        "id": "NJpyLPuoW_Dm"
      },
      "execution_count": null,
      "outputs": []
    },
    {
      "cell_type": "markdown",
      "source": [
        "02_pop_up_shop"
      ],
      "metadata": {
        "id": "36Dv3LQGYtJi"
      }
    },
    {
      "cell_type": "code",
      "source": [
        "# Define a dictionary with fruits and their prices\n",
        "fruit_prices = {\n",
        "    'apple': 1.5,\n",
        "    'durian': 5.0,\n",
        "    'jackfruit': 3.0,\n",
        "    'kiwi': 2.0,\n",
        "    'rambutan': 4.0,\n",
        "    'mango': 2.5\n",
        "}\n",
        "\n",
        "# Initialize total cost\n",
        "total_cost = 0\n",
        "\n",
        "# Loop through each fruit in the dictionary\n",
        "for fruit, price in fruit_prices.items():\n",
        "    # Ask the user how many of the fruit they want\n",
        "    print(f\"How many {fruit} do you want?: \", end=\"\")\n",
        "    quantity = int(input())\n",
        "\n",
        "    # Calculate the cost for the current fruit and add it to the total\n",
        "    total_cost += quantity * price\n",
        "\n",
        "# Print the total cost\n",
        "print(f\"Your total is ${total_cost:.2f}\")\n"
      ],
      "metadata": {
        "id": "FhuGhndxbejd"
      },
      "execution_count": null,
      "outputs": []
    },
    {
      "cell_type": "markdown",
      "source": [
        "03_powerful_passwords"
      ],
      "metadata": {
        "id": "VtujFON9dcjg"
      }
    },
    {
      "cell_type": "code",
      "source": [
        "import hashlib\n",
        "\n",
        "# Hash function provided\n",
        "def hash_password(password):\n",
        "    return hashlib.sha256(password.encode()).hexdigest()\n",
        "\n",
        "# Example stored login data\n",
        "stored_logins = {\n",
        "    \"user@example.com\": hash_password(\"securepassword123\"),\n",
        "    \"admin@example.com\": hash_password(\"adminpass456\")\n",
        "}\n",
        "\n",
        "# Login function to implement\n",
        "def login(email, password_to_check):\n",
        "    if email not in stored_logins:\n",
        "        return False\n",
        "    return hash_password(password_to_check) == stored_logins[email]\n"
      ],
      "metadata": {
        "id": "aX9N2LRrigSE"
      },
      "execution_count": null,
      "outputs": []
    }
  ]
}