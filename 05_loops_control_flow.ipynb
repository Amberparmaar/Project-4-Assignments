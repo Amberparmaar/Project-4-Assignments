{
  "nbformat": 4,
  "nbformat_minor": 0,
  "metadata": {
    "colab": {
      "provenance": [],
      "authorship_tag": "ABX9TyNAqh7MVP+6LJFuI0R/p+lu",
      "include_colab_link": true
    },
    "kernelspec": {
      "name": "python3",
      "display_name": "Python 3"
    },
    "language_info": {
      "name": "python"
    }
  },
  "cells": [
    {
      "cell_type": "markdown",
      "metadata": {
        "id": "view-in-github",
        "colab_type": "text"
      },
      "source": [
        "<a href=\"https://colab.research.google.com/github/Amberparmaar/Project-4-Assignments/blob/main/05_loops_control_flow.ipynb\" target=\"_parent\"><img src=\"https://colab.research.google.com/assets/colab-badge.svg\" alt=\"Open In Colab\"/></a>"
      ]
    },
    {
      "cell_type": "markdown",
      "source": [
        "00_guess_my_number"
      ],
      "metadata": {
        "id": "1DGZ26GssEbN"
      }
    },
    {
      "cell_type": "code",
      "source": [
        "import random\n",
        "def main():\n",
        "  secret_number = random.randint(0, 99)\n",
        "  guess = int(input(\"Guess a number between 1 and 100: \"))\n",
        "  while guess != secret_number:\n",
        "    if guess > secret_number:\n",
        "      print(\"Too high!\")\n",
        "    else:\n",
        "      print(\"Too low!\")\n",
        "    guess = int(input(\"Guess again: \"))\n",
        "  print(\"Congratulations! You guessed the number!\")\n",
        "main()"
      ],
      "metadata": {
        "id": "BKsdRa3dux6C"
      },
      "execution_count": null,
      "outputs": []
    },
    {
      "cell_type": "markdown",
      "source": [
        "01_fibonacci"
      ],
      "metadata": {
        "id": "PlDfA-hexH8Z"
      }
    },
    {
      "cell_type": "code",
      "source": [
        "# Constant for the maximum value\n",
        "MAX_VALUE = 10000\n",
        "\n",
        "def print_fibonacci_upto_max(max_value):\n",
        "    # First two Fibonacci numbers\n",
        "    a, b = 0, 1\n",
        "\n",
        "    # Print Fibonacci numbers less than max_value\n",
        "    while a < max_value:\n",
        "        print(a, end=\" \")\n",
        "        a, b = b, a + b\n",
        "\n",
        "# Run the function\n",
        "print_fibonacci_upto_max(MAX_VALUE)\n",
        "if __name__ == \"__main__\":\n",
        "    print_fibonacci_upto_max(MAX_VALUE)"
      ],
      "metadata": {
        "colab": {
          "base_uri": "https://localhost:8080/"
        },
        "id": "orsxvX9wxKu6",
        "outputId": "9d68d197-580d-4abf-efb8-48b984a607c6"
      },
      "execution_count": null,
      "outputs": [
        {
          "output_type": "stream",
          "name": "stdout",
          "text": [
            "0 1 1 2 3 5 8 13 21 34 55 89 144 233 377 610 987 1597 2584 4181 6765 0 1 1 2 3 5 8 13 21 34 55 89 144 233 377 610 987 1597 2584 4181 6765 "
          ]
        }
      ]
    },
    {
      "cell_type": "markdown",
      "source": [
        "02_print_events."
      ],
      "metadata": {
        "id": "zbAm7uRWy3Dk"
      }
    },
    {
      "cell_type": "code",
      "source": [
        "def print_first_20_even_numbers():\n",
        "    for i in range(20):\n",
        "        even_number = i * 2\n",
        "        print(even_number, end=\" \")\n",
        "\n",
        "# Run the function\n",
        "print_first_20_even_numbers()\n",
        "if __name__ == \"__main__\":\n",
        "    print_first_20_even_numbers()"
      ],
      "metadata": {
        "id": "mswSrpccy4OP",
        "outputId": "e2a92ec1-3806-4645-fc52-03320ea5e980",
        "colab": {
          "base_uri": "https://localhost:8080/"
        }
      },
      "execution_count": null,
      "outputs": [
        {
          "output_type": "stream",
          "name": "stdout",
          "text": [
            "0 2 4 6 8 10 12 14 16 18 20 22 24 26 28 30 32 34 36 38 0 2 4 6 8 10 12 14 16 18 20 22 24 26 28 30 32 34 36 38 "
          ]
        }
      ]
    },
    {
      "cell_type": "markdown",
      "source": [
        "03_wholesome_machine"
      ],
      "metadata": {
        "id": "_iVZKf8s-C--"
      }
    },
    {
      "cell_type": "code",
      "source": [
        "# Affirmation that the user needs to type correctly\n",
        "affirmation = \"Main jo bhi apne zehan mein daaloon, wo kar sakta hoon.\"\n",
        "\n",
        "def main():\n",
        "# Loop to keep prompting the user until they type the affirmation correctly\n",
        "  while True:\n",
        "    # Asking the user to type the affirmation\n",
        "    user_input = input(\"Barah-e-karam is affirmation ko type karein: \" + affirmation + \"\\n\")\n",
        "\n",
        "    # Checking if the input matches the affirmation\n",
        "    if user_input == affirmation:\n",
        "        print(\"Bilkul durust! :)\")\n",
        "        break  # Exit the loop if the input is correct\n",
        "    else:\n",
        "        print(\"Hmm, yeh affirmation sahi nahi tha.\")\n",
        "if __name__ == \"__main__\":\n",
        "  main()"
      ],
      "metadata": {
        "colab": {
          "base_uri": "https://localhost:8080/"
        },
        "id": "FLJmbjuf-EO-",
        "outputId": "099e621b-2a25-4611-da97-f9b1ba2aaafe"
      },
      "execution_count": null,
      "outputs": [
        {
          "output_type": "stream",
          "name": "stdout",
          "text": [
            "Barah-e-karam is affirmation ko type karein: Main jo bhi apne zehan mein daaloon, wo kar sakta hoon.\n",
            "Main jo bhi apne zehan mein daaloon, wo kar sakta hoon.\n",
            "Bilkul durust! :)\n"
          ]
        }
      ]
    },
    {
      "cell_type": "markdown",
      "source": [
        "04_liftoff"
      ],
      "metadata": {
        "id": "w4_xcf3F_Vey"
      }
    },
    {
      "cell_type": "code",
      "source": [
        "import time\n",
        "\n",
        "def main():\n",
        "    # Countdown from 10 to 1 with 1-second delay between each print\n",
        "    for i in range(10, 0, -1):  # Start at 10, stop before 0, decrement by 1\n",
        "        print(i)\n",
        "        time.sleep(1)  # Wait for 1 second before printing the next number\n",
        "\n",
        "    # After the countdown, print \"Liftoff!\"\n",
        "    print(\"Liftoff!\")\n",
        "\n",
        "if __name__ == '__main__':\n",
        "    main()\n"
      ],
      "metadata": {
        "colab": {
          "base_uri": "https://localhost:8080/"
        },
        "id": "HMMyzM4vDnlu",
        "outputId": "b73f811b-5ffc-400d-b38c-8ab727e9175f"
      },
      "execution_count": null,
      "outputs": [
        {
          "output_type": "stream",
          "name": "stdout",
          "text": [
            "10\n",
            "9\n",
            "8\n",
            "7\n",
            "6\n",
            "5\n",
            "4\n",
            "3\n",
            "2\n",
            "1\n",
            "Liftoff!\n"
          ]
        }
      ]
    },
    {
      "cell_type": "markdown",
      "source": [
        "05_double_it"
      ],
      "metadata": {
        "id": "3jPUuraTENMS"
      }
    },
    {
      "cell_type": "code",
      "source": [
        "def main():\n",
        "    # Ask the user to enter a number\n",
        "    curr_value = int(input(\"Enter a number: \"))\n",
        "\n",
        "    # Double the number and print the results until the value is 100 or greater\n",
        "    while curr_value < 100:\n",
        "        curr_value = curr_value * 2\n",
        "        print(curr_value)\n",
        "\n",
        "if __name__ == '__main__':\n",
        "    main()\n"
      ],
      "metadata": {
        "colab": {
          "base_uri": "https://localhost:8080/"
        },
        "id": "CEzTRf6wEOKB",
        "outputId": "34950f72-80e7-4b92-97f1-6b8adba158c6"
      },
      "execution_count": null,
      "outputs": [
        {
          "output_type": "stream",
          "name": "stdout",
          "text": [
            "Enter a number: 16\n",
            "32\n",
            "64\n",
            "128\n"
          ]
        }
      ]
    }
  ]
}