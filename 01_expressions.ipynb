{
  "nbformat": 4,
  "nbformat_minor": 0,
  "metadata": {
    "colab": {
      "provenance": [],
      "authorship_tag": "ABX9TyP/Bf3q6qMx7Lfj4eNh64y7",
      "include_colab_link": true
    },
    "kernelspec": {
      "name": "python3",
      "display_name": "Python 3"
    },
    "language_info": {
      "name": "python"
    }
  },
  "cells": [
    {
      "cell_type": "markdown",
      "metadata": {
        "id": "view-in-github",
        "colab_type": "text"
      },
      "source": [
        "<a href=\"https://colab.research.google.com/github/Amberparmaar/Project-4-Assignments/blob/main/01_expressions.ipynb\" target=\"_parent\"><img src=\"https://colab.research.google.com/assets/colab-badge.svg\" alt=\"Open In Colab\"/></a>"
      ]
    },
    {
      "cell_type": "markdown",
      "source": [
        "01_dicesimulator\n"
      ],
      "metadata": {
        "id": "efF9xwijiCXl"
      }
    },
    {
      "cell_type": "markdown",
      "source": [],
      "metadata": {
        "id": "EiGCeWyuS0r-"
      }
    },
    {
      "cell_type": "code",
      "source": [
        "import random\n",
        "\n",
        "# Function to simulate a dice roll\n",
        "def roll_dice():\n",
        "    die1 = random.randint(1, 6)  # First die roll\n",
        "    die2 = random.randint(1, 6)  # Second die roll\n",
        "    return die1, die2\n",
        "\n",
        "# Main function\n",
        "def main():\n",
        "    for i in range(3):  # Simulate 3 rolls\n",
        "        die1, die2 = roll_dice()  # Roll the dice\n",
        "        print(f\"Roll {i+1}: Die 1 = {die1}, Die 2 = {die2}\")\n",
        "\n",
        "# Call the main function to start the simulation\n",
        "if __name__ == \"__main__\":\n",
        "    main()\n"
      ],
      "metadata": {
        "colab": {
          "base_uri": "https://localhost:8080/"
        },
        "id": "xmvJH52xiJhr",
        "outputId": "835539a4-6214-4be5-bae7-d9d080ae62ab"
      },
      "execution_count": null,
      "outputs": [
        {
          "output_type": "stream",
          "name": "stdout",
          "text": [
            "Roll 1: Die 1 = 1, Die 2 = 6\n",
            "Roll 2: Die 1 = 3, Die 2 = 2\n",
            "Roll 3: Die 1 = 4, Die 2 = 2\n"
          ]
        }
      ]
    },
    {
      "cell_type": "markdown",
      "source": [
        "02_e=mc2\n"
      ],
      "metadata": {
        "id": "wFIloTE4iVA0"
      }
    },
    {
      "cell_type": "code",
      "source": [
        "# Speed of light constant in meters per second\n",
        "C = 299792458  # m/s\n",
        "\n",
        "# Ask the user for mass in kilograms\n",
        "mass = float(input(\"Enter kilos of mass: \"))\n",
        "\n",
        "# Calculate energy using the formula E = m * C^2\n",
        "energy = mass * C**2\n",
        "\n",
        "# Output the results\n",
        "print(\"\\ne = m * C^2...\")\n",
        "print(f\"m = {mass} kg\")\n",
        "print(f\"C = {C} m/s\")\n",
        "print(f\"{energy} joules of energy!\")\n"
      ],
      "metadata": {
        "colab": {
          "base_uri": "https://localhost:8080/"
        },
        "id": "ikUSwV6fikDe",
        "outputId": "2fd59bc7-5d0b-4bc9-ae84-a81ee45b7e67"
      },
      "execution_count": null,
      "outputs": [
        {
          "output_type": "stream",
          "name": "stdout",
          "text": [
            "Enter kilos of mass: 250\n",
            "\n",
            "e = m * C^2...\n",
            "m = 250.0 kg\n",
            "C = 299792458 m/s\n",
            "2.246887946842044e+19 joules of energy!\n"
          ]
        }
      ]
    },
    {
      "cell_type": "markdown",
      "source": [
        "03_feet_to_inches"
      ],
      "metadata": {
        "id": "SKZ_ruJwjSSb"
      }
    },
    {
      "cell_type": "code",
      "source": [
        "inches : int = 12\n",
        "\n",
        "def feet():\n",
        "  feet : int = int(input(\"Enter feet: \"))\n",
        "  foot : int = feet * inches\n",
        "  print(f\"{feet} feet = {foot} inches\")\n",
        "if __name__ == \"__main__\":\n",
        "  feet()"
      ],
      "metadata": {
        "colab": {
          "base_uri": "https://localhost:8080/"
        },
        "id": "HKN6fb-QjkYj",
        "outputId": "10b528dd-d7b1-4623-e7ea-12f6f3bcd5a6"
      },
      "execution_count": null,
      "outputs": [
        {
          "output_type": "stream",
          "name": "stdout",
          "text": [
            "Enter feet: 45\n",
            "45 feet = 540 inches\n"
          ]
        }
      ]
    },
    {
      "cell_type": "markdown",
      "source": [
        "04_pythagorean_theorem"
      ],
      "metadata": {
        "id": "lCTpsdO8lk08"
      }
    },
    {
      "cell_type": "code",
      "source": [
        "import math\n",
        "\n",
        "def main():\n",
        "# Read the lengths of AB and AC\n",
        "  AB = float(input(\"Enter the length of AB: \"))\n",
        "  AC = float(input(\"Enter the length of AC: \"))\n",
        "\n",
        "# Calculate the length of BC (hypotenuse) using the Pythagorean theorem\n",
        "  BC = math.sqrt(AB**2 + AC**2)\n",
        "\n",
        "# Output the length of BC\n",
        "  print(f\"The length of BC (the hypotenuse) is: {BC}\")\n",
        "\n",
        "  return\n",
        "\n",
        "if __name__ == \"__main__\":\n",
        "  main()\n"
      ],
      "metadata": {
        "colab": {
          "base_uri": "https://localhost:8080/"
        },
        "id": "qVjcWQxulrom",
        "outputId": "ff2861c4-90b1-45b9-f574-4b1f00a6340d"
      },
      "execution_count": null,
      "outputs": [
        {
          "output_type": "stream",
          "name": "stdout",
          "text": [
            "Enter the length of AB: 3\n",
            "Enter the length of AC: 4\n",
            "The length of BC (the hypotenuse) is: 5.0\n"
          ]
        }
      ]
    },
    {
      "cell_type": "markdown",
      "source": [
        "05_remainder_division\n"
      ],
      "metadata": {
        "id": "bGyn0FE6S3VZ"
      }
    },
    {
      "cell_type": "code",
      "source": [
        "def divide_numbers():\n",
        "\n",
        "  num1 = int(input(\"Enter the number to be divided: \"))\n",
        "  num2 = int(input(\"Enter the number to divide by: \"))\n",
        "  result = num1 // num2\n",
        "  remainder = num1 % num2\n",
        "  print(f\"{num1} divided by {num2} is {result} with a remainder of {remainder}.\")\n",
        "\n",
        "if __name__ == \"__main__\":\n",
        "  divide_numbers()\n",
        "\n"
      ],
      "metadata": {
        "colab": {
          "base_uri": "https://localhost:8080/"
        },
        "id": "EX5BqoPyToRO",
        "outputId": "07a84ede-9c6d-406c-dd47-60167546aa4e"
      },
      "execution_count": null,
      "outputs": [
        {
          "output_type": "stream",
          "name": "stdout",
          "text": [
            "Enter the number to be divided: 6\n",
            "Enter the number to divide by: 2\n",
            "6 divided by 2 is 3 with a remainder of 0.\n"
          ]
        }
      ]
    },
    {
      "cell_type": "markdown",
      "source": [
        "06_rolldice"
      ],
      "metadata": {
        "id": "eC_6saT9VUuy"
      }
    },
    {
      "cell_type": "code",
      "source": [
        "import random\n",
        "\n",
        "def roll_dice():\n",
        "    # Simulate rolling two dice\n",
        "    die1 = random.randint(1, 6)\n",
        "    die2 = random.randint(1, 6)\n",
        "\n",
        "    # Calculate the total of both rolls\n",
        "    total = die1 + die2\n",
        "\n",
        "    # Print the result of each roll and the total\n",
        "    print(f\"Roll 1: {die1}\")\n",
        "    print(f\"Roll 2: {die2}\")\n",
        "    print(f\"Total: {total}\")\n",
        "\n",
        "if __name__ == '__main__':\n",
        "    roll_dice()\n"
      ],
      "metadata": {
        "colab": {
          "base_uri": "https://localhost:8080/"
        },
        "id": "PQyKUQKJVVti",
        "outputId": "96bdf0d4-99d1-449d-b2e5-0b10c0a3fccf"
      },
      "execution_count": null,
      "outputs": [
        {
          "output_type": "stream",
          "name": "stdout",
          "text": [
            "Roll 1: 5\n",
            "Roll 2: 6\n",
            "Total: 11\n"
          ]
        }
      ]
    },
    {
      "cell_type": "markdown",
      "source": [
        "06_seconds_in_year"
      ],
      "metadata": {
        "id": "M1MAs0SRVeY-"
      }
    },
    {
      "cell_type": "code",
      "source": [
        "def main():\n",
        "    # Define constants\n",
        "    DAYS_IN_A_YEAR = 365\n",
        "    HOURS_IN_A_DAY = 24\n",
        "    MINUTES_IN_AN_HOUR = 60\n",
        "    SECONDS_IN_A_MINUTE = 60\n",
        "\n",
        "    # Calculate the number of seconds in a year\n",
        "    seconds_in_a_year = DAYS_IN_A_YEAR * HOURS_IN_A_DAY * MINUTES_IN_AN_HOUR * SECONDS_IN_A_MINUTE\n",
        "\n",
        "    # Print the result\n",
        "    print(f\"There are {seconds_in_a_year} seconds in a year!\")\n",
        "\n",
        "if __name__ == '__main__':\n",
        "    main()\n"
      ],
      "metadata": {
        "colab": {
          "base_uri": "https://localhost:8080/"
        },
        "id": "Enk_44UzV1xD",
        "outputId": "255a0018-5d2a-4836-b00b-afa3d7e87bc7"
      },
      "execution_count": null,
      "outputs": [
        {
          "output_type": "stream",
          "name": "stdout",
          "text": [
            "There are 31536000 seconds in a year!\n"
          ]
        }
      ]
    },
    {
      "cell_type": "markdown",
      "source": [
        "07_tiny_mad_lib"
      ],
      "metadata": {
        "id": "lHlGsDJdYURt"
      }
    },
    {
      "cell_type": "code",
      "source": [
        "def main():\n",
        "    # Define a new starting part of the sentence related to programming\n",
        "    SENTENCE_START = \"In the world of programming, I once used Python to\"\n",
        "\n",
        "    # Prompt the user for input\n",
        "    adjective = input(\"Please type an adjective and press enter: \")\n",
        "    noun = input(\"Please type a noun and press enter: \")\n",
        "    verb = input(\"Please type a verb and press enter: \")\n",
        "\n",
        "    # Create the full sentence using the user inputs\n",
        "    sentence = f\"{SENTENCE_START} {adjective} {noun} that could {verb} like no other!\"\n",
        "\n",
        "    # Print the final sentence\n",
        "    print(sentence)\n",
        "\n",
        "# Ensure the script runs only when executed directly\n",
        "if __name__ == '__main__':\n",
        "    main()\n"
      ],
      "metadata": {
        "id": "W1xSAClxYxZv"
      },
      "execution_count": null,
      "outputs": []
    }
  ]
}