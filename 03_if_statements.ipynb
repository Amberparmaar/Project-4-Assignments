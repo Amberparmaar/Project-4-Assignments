{
  "nbformat": 4,
  "nbformat_minor": 0,
  "metadata": {
    "colab": {
      "provenance": [],
      "authorship_tag": "ABX9TyM0biNcr2pYf9vmJs27uqzI",
      "include_colab_link": true
    },
    "kernelspec": {
      "name": "python3",
      "display_name": "Python 3"
    },
    "language_info": {
      "name": "python"
    }
  },
  "cells": [
    {
      "cell_type": "markdown",
      "metadata": {
        "id": "view-in-github",
        "colab_type": "text"
      },
      "source": [
        "<a href=\"https://colab.research.google.com/github/Amberparmaar/Project-4-Assignments/blob/main/03_if_statements.ipynb\" target=\"_parent\"><img src=\"https://colab.research.google.com/assets/colab-badge.svg\" alt=\"Open In Colab\"/></a>"
      ]
    },
    {
      "cell_type": "markdown",
      "source": [
        "01_print_events"
      ],
      "metadata": {
        "id": "Rpj8UFfKNqLr"
      }
    },
    {
      "cell_type": "code",
      "source": [
        "def print_even_numbers():\n",
        "    # Loop through the first 20 even numbers\n",
        "    for i in range(20):\n",
        "        print(i * 2, end=\" \")\n",
        "\n",
        "if __name__ == \"__main__\":\n",
        "    print_even_numbers()\n"
      ],
      "metadata": {
        "colab": {
          "base_uri": "https://localhost:8080/"
        },
        "id": "t_i-kUH8NrWo",
        "outputId": "d7afdd0e-7e11-429d-b659-e48bd9e27c0b"
      },
      "execution_count": null,
      "outputs": [
        {
          "output_type": "stream",
          "name": "stdout",
          "text": [
            "0 2 4 6 8 10 12 14 16 18 20 22 24 26 28 30 32 34 36 38 "
          ]
        }
      ]
    },
    {
      "cell_type": "markdown",
      "source": [
        "02_international_voting_age"
      ],
      "metadata": {
        "id": "a6GEC-JUOojn"
      }
    },
    {
      "cell_type": "code",
      "source": [
        "from IPython.display import display, HTML\n",
        "\n",
        "def check_voting_eligibility(age):\n",
        "    # Define the voting age for each country\n",
        "    voting_ages = {\n",
        "        \"Peturksbouipo\": 16,\n",
        "        \"Stanlau\": 25,\n",
        "        \"Mayengua\": 48\n",
        "    }\n",
        "\n",
        "    # Check and print whether the user can vote in each country\n",
        "    for country, voting_age in voting_ages.items():\n",
        "        if age >= voting_age:\n",
        "            print(f\"You can vote in {country} where the voting age is {voting_age}.\")\n",
        "        else:\n",
        "            print(f\"You cannot vote in {country} where the voting age is {voting_age}.\")\n",
        "\n",
        "def input_with_blue_color():\n",
        "    # Display a blue-colored prompt message and collect user input\n",
        "    display(HTML('''\n",
        "        <div style=\"color:blue;\">\n",
        "            Enter your age:\n",
        "            <input type=\"text\" id=\"user_input\" style=\"color:blue;\" />\n",
        "        </div>\n",
        "        <script>\n",
        "            var inputField = document.getElementById('user_input');\n",
        "            inputField.addEventListener('change', function() {\n",
        "                google.colab.kernel.invokeFunction('notebook.get_user_input', [inputField.value], {});\n",
        "            });\n",
        "        </script>\n",
        "    '''))\n",
        "\n",
        "# Callback function to retrieve user input in Python\n",
        "from google.colab import output\n",
        "output.register_callback('notebook.get_user_input', lambda age: check_voting_eligibility(int(age)))\n",
        "\n",
        "if __name__ == '__main__':\n",
        "    # Display the input prompt in blue and collect user input\n",
        "    input_with_blue_color()\n"
      ],
      "metadata": {
        "colab": {
          "base_uri": "https://localhost:8080/",
          "height": 88
        },
        "id": "ieY_T7TtQ4TP",
        "outputId": "58ad2ca0-f0a7-47e5-b03d-d74d3e160ea2"
      },
      "execution_count": null,
      "outputs": [
        {
          "output_type": "display_data",
          "data": {
            "text/plain": [
              "<IPython.core.display.HTML object>"
            ],
            "text/html": [
              "\n",
              "        <div style=\"color:blue;\">\n",
              "            Enter your age:\n",
              "            <input type=\"text\" id=\"user_input\" style=\"color:blue;\" />\n",
              "        </div>\n",
              "        <script>\n",
              "            var inputField = document.getElementById('user_input');\n",
              "            inputField.addEventListener('change', function() {\n",
              "                google.colab.kernel.invokeFunction('notebook.get_user_input', [inputField.value], {});\n",
              "            });\n",
              "        </script>\n",
              "    "
            ]
          },
          "metadata": {}
        },
        {
          "output_type": "stream",
          "name": "stdout",
          "text": [
            "You can vote in Peturksbouipo where the voting age is 16.\n",
            "You can vote in Stanlau where the voting age is 25.\n",
            "You can vote in Mayengua where the voting age is 48.\n"
          ]
        }
      ]
    },
    {
      "cell_type": "markdown",
      "source": [
        "03_leap_year"
      ],
      "metadata": {
        "id": "r0aZ9a5IRO7U"
      }
    },
    {
      "cell_type": "code",
      "source": [
        "# Function to check if a year is a leap year\n",
        "def check_leap_year(year):\n",
        "    if (year % 4 == 0 and year % 100 != 0) or (year % 400 == 0):\n",
        "        return \"That's a leap year!\"\n",
        "    else:\n",
        "        return \"That's not a leap year.\"\n",
        "\n",
        "# Main program\n",
        "if __name__ == \"__main__\":\n",
        "    # Ask the user for a year\n",
        "    year = int(input(\"Enter a year: \"))\n",
        "\n",
        "    # Check and print if the year is a leap year or not\n",
        "    print(check_leap_year(year))\n"
      ],
      "metadata": {
        "colab": {
          "base_uri": "https://localhost:8080/"
        },
        "id": "ilu0g9WURP4z",
        "outputId": "661c5e3b-0e82-4366-dc7b-37d07c3ce6f2"
      },
      "execution_count": null,
      "outputs": [
        {
          "output_type": "stream",
          "name": "stdout",
          "text": [
            "Enter a year: 2025\n",
            "That's not a leap year.\n"
          ]
        }
      ]
    },
    {
      "cell_type": "markdown",
      "source": [
        "04_tall_enough_to_ride"
      ],
      "metadata": {
        "id": "mtgzMTE8RyC7"
      }
    },
    {
      "cell_type": "code",
      "source": [
        "# Function to check if the user is tall enough\n",
        "def check_height(height):\n",
        "    minimum_height = 50  # Minimum height required\n",
        "    if height >= minimum_height:\n",
        "        print(\"You're tall enough to ride!\")\n",
        "    else:\n",
        "        print(\"You're not tall enough to ride, but maybe next year!\")\n",
        "\n",
        "# Main program\n",
        "if __name__ == \"__main__\":\n",
        "    # Ask the user for their height\n",
        "    try:\n",
        "        height = int(input(\"How tall are you? \"))\n",
        "        check_height(height)\n",
        "    except ValueError:\n",
        "        print(\"Please enter a valid number.\")\n"
      ],
      "metadata": {
        "colab": {
          "base_uri": "https://localhost:8080/"
        },
        "id": "PjQltYy5SXI8",
        "outputId": "6c5a5a0d-2563-4ed6-b7b1-9e298bda65e3"
      },
      "execution_count": null,
      "outputs": [
        {
          "output_type": "stream",
          "name": "stdout",
          "text": [
            "How tall are you? 51\n",
            "You're tall enough to ride!\n"
          ]
        }
      ]
    },
    {
      "cell_type": "markdown",
      "source": [
        "05_random_numbers"
      ],
      "metadata": {
        "id": "9oVP6-x8SmHd"
      }
    },
    {
      "cell_type": "code",
      "source": [
        "import random\n",
        "\n",
        "# Function to generate and print random numbers\n",
        "def print_random_numbers():\n",
        "    for _ in range(10):\n",
        "        print(random.randint(1, 100), end=\" \")\n",
        "\n",
        "# Code that should only run when the script is executed directly\n",
        "if __name__ == '__main__':\n",
        "    print_random_numbers()\n"
      ],
      "metadata": {
        "colab": {
          "base_uri": "https://localhost:8080/"
        },
        "id": "BvYBPm8gSrKg",
        "outputId": "e183fc3d-d02a-46a2-cd59-1db79267cc9e"
      },
      "execution_count": null,
      "outputs": [
        {
          "output_type": "stream",
          "name": "stdout",
          "text": [
            "97 21 93 73 83 23 86 21 46 61 "
          ]
        }
      ]
    }
  ]
}