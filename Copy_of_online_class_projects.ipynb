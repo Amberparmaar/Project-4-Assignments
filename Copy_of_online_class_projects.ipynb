{
  "nbformat": 4,
  "nbformat_minor": 0,
  "metadata": {
    "colab": {
      "provenance": [],
      "authorship_tag": "ABX9TyP1IF9iDGTIZb9M/c3jU6Fl",
      "include_colab_link": true
    },
    "kernelspec": {
      "name": "python3",
      "display_name": "Python 3"
    },
    "language_info": {
      "name": "python"
    }
  },
  "cells": [
    {
      "cell_type": "markdown",
      "metadata": {
        "id": "view-in-github",
        "colab_type": "text"
      },
      "source": [
        "<a href=\"https://colab.research.google.com/github/Amberparmaar/Project-4-Assignments/blob/main/Copy_of_online_class_projects.ipynb\" target=\"_parent\"><img src=\"https://colab.research.google.com/assets/colab-badge.svg\" alt=\"Open In Colab\"/></a>"
      ]
    },
    {
      "cell_type": "markdown",
      "source": [
        "01_basics"
      ],
      "metadata": {
        "id": "rrD1--f-3RlQ"
      }
    },
    {
      "cell_type": "markdown",
      "source": [
        "00_joke_bot"
      ],
      "metadata": {
        "id": "6wflvutD3Vcl"
      }
    },
    {
      "cell_type": "code",
      "source": [
        "# Constants\n",
        "PROMPT = \"What do you want? \"\n",
        "JOKE = (\"Here is a joke for you! Why do programmers prefer dark mode? \"\n",
        "        \"Because light attracts bugs!\")\n",
        "SORRY = \"Sorry I only tell jokes\"\n",
        "\n",
        "# Get user input\n",
        "user_input = input(PROMPT)\n",
        "\n",
        "# Check the input and respond\n",
        "if user_input == \"Joke\":\n",
        "    print(JOKE)\n",
        "else:\n",
        "    print(SORRY)\n"
      ],
      "metadata": {
        "colab": {
          "base_uri": "https://localhost:8080/"
        },
        "id": "u5LFTiGy3bSH",
        "outputId": "f849f592-7572-4ea9-955d-6c959989ced0"
      },
      "execution_count": null,
      "outputs": [
        {
          "output_type": "stream",
          "name": "stdout",
          "text": [
            "What do you want? Joke\n",
            "Here is a joke for you! Why do programmers prefer dark mode? Because light attracts bugs!\n"
          ]
        }
      ]
    },
    {
      "cell_type": "markdown",
      "source": [
        "01_double_it"
      ],
      "metadata": {
        "id": "A_A_1jku4IwK"
      }
    },
    {
      "cell_type": "code",
      "source": [
        "\n",
        "def double_elements(numbers):\n",
        "    # Doubles each element in the list\n",
        "    return [x * 2 for x in numbers]\n",
        "\n",
        "if __name__ == '__main__':\n",
        "    # Example list of numbers\n",
        "    numbers = [1, 2, 3, 4]\n",
        "\n",
        "    # Call the function to double the elements\n",
        "    numbers = double_elements(numbers)\n",
        "\n",
        "    # Print the updated list\n",
        "    print(numbers)\n",
        "if __name__ == '__main__':\n",
        "    double_elements(numbers)"
      ],
      "metadata": {
        "colab": {
          "base_uri": "https://localhost:8080/"
        },
        "id": "0Kj_tICI4YhY",
        "outputId": "02580f36-b430-43c2-d107-b2599ae7ec98"
      },
      "execution_count": null,
      "outputs": [
        {
          "output_type": "stream",
          "name": "stdout",
          "text": [
            "[2, 4, 6, 8]\n"
          ]
        }
      ]
    },
    {
      "cell_type": "markdown",
      "source": [
        "02_liftoff"
      ],
      "metadata": {
        "id": "esgZczCY45tQ"
      }
    },
    {
      "cell_type": "code",
      "source": [
        "import time\n",
        "\n",
        "def main():\n",
        "    # Countdown from 10 to 1 with 1-second delay between each print\n",
        "    for i in range(10, 0, -1):  # Start at 10, stop before 0, decrement by 1\n",
        "        print(i)\n",
        "        time.sleep(1)  # Wait for 1 second before printing the next number\n",
        "\n",
        "    # After the countdown, print \"Liftoff!\"\n",
        "    print(\"Liftoff!\")\n",
        "\n",
        "if __name__ == '__main__':\n",
        "    main()"
      ],
      "metadata": {
        "colab": {
          "base_uri": "https://localhost:8080/"
        },
        "id": "Qjw3YR8y46cH",
        "outputId": "00f17866-5445-4ab6-9218-8716f7af228d"
      },
      "execution_count": null,
      "outputs": [
        {
          "output_type": "stream",
          "name": "stdout",
          "text": [
            "10\n",
            "9\n",
            "8\n",
            "7\n",
            "6\n",
            "5\n",
            "4\n",
            "3\n",
            "2\n",
            "1\n",
            "Liftoff!\n"
          ]
        }
      ]
    },
    {
      "cell_type": "markdown",
      "source": [
        "03_guess_my_number"
      ],
      "metadata": {
        "id": "oZUV4dG55jM-"
      }
    },
    {
      "cell_type": "code",
      "source": [
        "\n",
        "import random\n",
        "def main():\n",
        "  secret_number = random.randint(0, 99)\n",
        "  guess = int(input(\"Guess a number between 1 and 100: \"))\n",
        "  while guess != secret_number:\n",
        "    if guess > secret_number:\n",
        "      print(\"Too high!\")\n",
        "    else:\n",
        "      print(\"Too low!\")\n",
        "    guess = int(input(\"Guess again: \"))\n",
        "  print(\"Congratulations! You guessed the number!\")\n",
        "main()"
      ],
      "metadata": {
        "id": "G8q6m7Ct5no-"
      },
      "execution_count": null,
      "outputs": []
    },
    {
      "cell_type": "markdown",
      "source": [
        "04_random_numbers"
      ],
      "metadata": {
        "id": "XcYm1Yfv5v-K"
      }
    },
    {
      "cell_type": "code",
      "source": [
        "\n",
        "import random\n",
        "\n",
        "# Function to generate and print random numbers\n",
        "def print_random_numbers():\n",
        "    for _ in range(10):\n",
        "        print(random.randint(1, 100), end=\" \")\n",
        "\n",
        "# Code that should only run when the script is executed directly\n",
        "if __name__ == '__main__':\n",
        "    print_random_numbers()"
      ],
      "metadata": {
        "id": "S4_TB6g85wzQ",
        "colab": {
          "base_uri": "https://localhost:8080/"
        },
        "outputId": "777a34d0-9f75-4f75-a3c8-1c2949001332"
      },
      "execution_count": null,
      "outputs": [
        {
          "output_type": "stream",
          "name": "stdout",
          "text": [
            "64 100 52 48 59 22 7 83 44 60 "
          ]
        }
      ]
    },
    {
      "cell_type": "markdown",
      "source": [
        "02_intermediate/Control Flow for Console\n"
      ],
      "metadata": {
        "id": "1eqLrIViyJ6E"
      }
    },
    {
      "cell_type": "code",
      "source": [
        "import random\n",
        "\n",
        "NUM_ROUNDS = 5\n",
        "\n",
        "def main():\n",
        "    print(\"Welcome to the High-Low Game!\")\n",
        "    print('--------------------------------')\n",
        "\n",
        "    score = 0\n",
        "\n",
        "    for round_num in range(1, NUM_ROUNDS + 1):\n",
        "        print(f\"Round {round_num}\")\n",
        "        player_number = random.randint(1, 100)\n",
        "        computer_number = random.randint(1, 100)\n",
        "\n",
        "        print(f\"Your number is {player_number}\")\n",
        "        guess = input(\"Do you think your number is higher or lower than the computer's?: \").strip().lower()\n",
        "\n",
        "        # Extension #1: Validate user input\n",
        "        while guess not in [\"higher\", \"lower\"]:\n",
        "            guess = input(\"Please enter either 'higher' or 'lower': \").strip().lower()\n",
        "\n",
        "        # Game logic\n",
        "        correct = False\n",
        "        if guess == \"higher\" and player_number > computer_number:\n",
        "            correct = True\n",
        "        elif guess == \"lower\" and player_number < computer_number:\n",
        "            correct = True\n",
        "\n",
        "        if correct:\n",
        "            print(f\"You were right! The computer's number was {computer_number}\")\n",
        "            score += 1\n",
        "        else:\n",
        "            print(f\"Aww, that's incorrect. The computer's number was {computer_number}\")\n",
        "\n",
        "        print(f\"Your score is now {score}\")\n",
        "        print()  # Spacing between rounds\n",
        "\n",
        "    # Game over - end message\n",
        "    print(\"Thanks for playing!\")\n",
        "    if score == NUM_ROUNDS:\n",
        "        print(\"Wow! You played perfectly!\")\n",
        "    elif score >= NUM_ROUNDS // 2:\n",
        "        print(\"Good job, you played really well!\")\n",
        "    else:\n",
        "        print(\"Better luck next time!\")\n",
        "\n",
        "if __name__ == \"__main__\":\n",
        "    main()\n"
      ],
      "metadata": {
        "colab": {
          "base_uri": "https://localhost:8080/"
        },
        "id": "-qcSSFlUzTHF",
        "outputId": "2b8a9823-8a1e-4a09-c202-c82a5302b590"
      },
      "execution_count": null,
      "outputs": [
        {
          "output_type": "stream",
          "name": "stdout",
          "text": [
            "Welcome to the High-Low Game!\n",
            "--------------------------------\n",
            "Round 1\n",
            "Your number is 82\n"
          ]
        }
      ]
    },
    {
      "cell_type": "markdown",
      "source": [
        "02_intermediate/Intro to Python\n"
      ],
      "metadata": {
        "id": "Y8XrYe1VzVVQ"
      }
    },
    {
      "cell_type": "code",
      "source": [
        "def main():\n",
        "    # Milestone #1: Get Earth weight\n",
        "    earth_weight = float(input(\"Enter a weight on Earth: \"))\n",
        "\n",
        "    # Milestone #2: Ask for planet name\n",
        "    planet = input(\"Enter a planet: \")\n",
        "\n",
        "    # Milestone #2: Gravity for each planet\n",
        "    if planet == \"Mercury\":\n",
        "        gravity = 0.376\n",
        "    elif planet == \"Venus\":\n",
        "        gravity = 0.889\n",
        "    elif planet == \"Mars\":  # Milestone #1 focused on Mars\n",
        "        gravity = 0.378\n",
        "    elif planet == \"Jupiter\":\n",
        "        gravity = 2.36\n",
        "    elif planet == \"Saturn\":\n",
        "        gravity = 1.081\n",
        "    elif planet == \"Uranus\":\n",
        "        gravity = 0.815\n",
        "    elif planet == \"Neptune\":\n",
        "        gravity = 1.14\n",
        "    else:\n",
        "        print(\"Invalid planet name.\")\n",
        "        return  # Stop the program if planet is not valid\n",
        "\n",
        "    # Calculate and show the result\n",
        "    planet_weight = round(earth_weight * gravity, 2)\n",
        "    print(f\"The equivalent weight on {planet}: {planet_weight}\")\n",
        "\n",
        "# Run the program\n",
        "if __name__ == \"__main__\":\n",
        "    main()\n"
      ],
      "metadata": {
        "colab": {
          "base_uri": "https://localhost:8080/"
        },
        "id": "4BCP9e5t2LX0",
        "outputId": "5cf07e95-1ddd-4ced-8a36-54b8ebd9ca4b"
      },
      "execution_count": null,
      "outputs": [
        {
          "output_type": "stream",
          "name": "stdout",
          "text": [
            "Enter a weight on Earth: 2.4\n",
            "Enter a planet: Mars\n",
            "The equivalent weight on Mars: 0.91\n"
          ]
        }
      ]
    },
    {
      "cell_type": "markdown",
      "source": [
        "02_intermediate/Lists and Dicts\n"
      ],
      "metadata": {
        "id": "1iNQd05H3wVP"
      }
    },
    {
      "cell_type": "markdown",
      "source": [
        "Problem 1 List Practice"
      ],
      "metadata": {
        "id": "IHbUqvR96Fzg"
      }
    },
    {
      "cell_type": "code",
      "source": [
        "def main():\n",
        "  fruit_list : list = ['apple', 'banana', 'orange', 'grape', 'pineapple']\n",
        "  fruit_length = len(fruit_list)\n",
        "  print(f\"There are {fruit_length} fruits in the list.\")\n",
        "\n",
        "  # add mango end of the list\n",
        "  fruit_list.append(\"mango\")\n",
        "  print(fruit_list)\n",
        "\n",
        "# Run the program\n",
        "if __name__ == \"__main__\":\n",
        "    main()"
      ],
      "metadata": {
        "id": "LazoeSEy3-xG",
        "colab": {
          "base_uri": "https://localhost:8080/"
        },
        "outputId": "0603a05c-ba9c-4302-acc9-682df651495e"
      },
      "execution_count": null,
      "outputs": [
        {
          "output_type": "stream",
          "name": "stdout",
          "text": [
            "There are 5 fruits in the list.\n",
            "['apple', 'banana', 'orange', 'grape', 'pineapple', 'mango']\n"
          ]
        }
      ]
    },
    {
      "cell_type": "markdown",
      "source": [
        "Problem 2 Index Game"
      ],
      "metadata": {
        "id": "zoqZsFZa6L9z"
      }
    },
    {
      "cell_type": "code",
      "source": [
        "def access_element(lst, index):\n",
        "    # return specific element\n",
        "    if index < 0 or index >= len(lst):\n",
        "        return \"Index range ke bahar hai.\"\n",
        "    return lst[index]\n",
        "\n",
        "def modify_element(lst, index, new_value):\n",
        "    # replacing with new value\n",
        "    if index < 0 or index >= len(lst):\n",
        "        return \"Index range ke bahar hai.\"\n",
        "    lst[index] = new_value\n",
        "    return lst\n",
        "\n",
        "def slice_list(lst, start, end):\n",
        "    # Slice the list\n",
        "    if start < 0 or end > len(lst) or start >= end:\n",
        "        return \"Invalid range.\"\n",
        "    return lst[start:end]\n",
        "\n",
        "def main():\n",
        "    # List initializ\n",
        "    my_list = [10, 'apple', 3.14, 'banana', 'grape']\n",
        "\n",
        "    # select operation\n",
        "    print(\"Operations: access, modify, slice\")\n",
        "    operation = input(\"Choose an operation: \")\n",
        "\n",
        "    if operation == \"access\":\n",
        "        index = int(input(\"Enter index to access: \"))\n",
        "        print(\"Element at index\", index, \"is:\", access_element(my_list, index))\n",
        "\n",
        "    elif operation == \"modify\":\n",
        "        index = int(input(\"Enter index to modify: \"))\n",
        "        new_value = input(\"Enter new value: \")\n",
        "        print(\"Updated list:\", modify_element(my_list, index, new_value))\n",
        "\n",
        "    elif operation == \"slice\":\n",
        "        start = int(input(\"Enter start index: \"))\n",
        "        end = int(input(\"Enter end index: \"))\n",
        "        print(\"Sliced list:\", slice_list(my_list, start, end))\n",
        "\n",
        "    else:\n",
        "        print(\"Invalid operation.\")\n",
        "\n",
        "if __name__ == \"__main__\":\n",
        "    main()\n"
      ],
      "metadata": {
        "colab": {
          "base_uri": "https://localhost:8080/"
        },
        "id": "vH34Fj-q6RLB",
        "outputId": "ee869031-f229-42f9-f623-8041d5ae3394"
      },
      "execution_count": null,
      "outputs": [
        {
          "output_type": "stream",
          "name": "stdout",
          "text": [
            "Operations: access, modify, slice\n",
            "Choose an operation: access\n",
            "Enter index to access: 4\n",
            "Element at index 4 is: grape\n"
          ]
        }
      ]
    }
  ]
}