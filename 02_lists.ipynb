{
  "nbformat": 4,
  "nbformat_minor": 0,
  "metadata": {
    "colab": {
      "provenance": [],
      "authorship_tag": "ABX9TyNHW2pFyOl+Y6MpqUxcz1MW",
      "include_colab_link": true
    },
    "kernelspec": {
      "name": "python3",
      "display_name": "Python 3"
    },
    "language_info": {
      "name": "python"
    }
  },
  "cells": [
    {
      "cell_type": "markdown",
      "metadata": {
        "id": "view-in-github",
        "colab_type": "text"
      },
      "source": [
        "<a href=\"https://colab.research.google.com/github/Amberparmaar/Project-4-Assignments/blob/main/02_lists.ipynb\" target=\"_parent\"><img src=\"https://colab.research.google.com/assets/colab-badge.svg\" alt=\"Open In Colab\"/></a>"
      ]
    },
    {
      "cell_type": "code",
      "execution_count": null,
      "metadata": {
        "id": "iywqQdfPZQEu"
      },
      "outputs": [],
      "source": []
    },
    {
      "cell_type": "markdown",
      "source": [
        "01_add_many_number"
      ],
      "metadata": {
        "id": "2nlTeS4jZXzH"
      }
    },
    {
      "cell_type": "code",
      "source": [
        "def sum_of_numbers(numbers):\n",
        "    # Return the sum of the numbers in the list\n",
        "    return sum(numbers)\n",
        "\n",
        "# Example usage\n",
        "numbers_list = [1, 2, 3, 4, 5, 6, 7]\n",
        "result = sum_of_numbers(numbers_list)\n",
        "print(f\"The sum of the numbers is: {result}\")\n",
        "\n",
        "if __name__ == '__main__':\n",
        "  sum_of_numbers(numbers_list)"
      ],
      "metadata": {
        "colab": {
          "base_uri": "https://localhost:8080/"
        },
        "id": "aWWo5JB3Zdxh",
        "outputId": "fe107dc8-db6c-403d-a415-4bb4df6e0784"
      },
      "execution_count": null,
      "outputs": [
        {
          "output_type": "stream",
          "name": "stdout",
          "text": [
            "The sum of the numbers is: 28\n"
          ]
        }
      ]
    },
    {
      "cell_type": "markdown",
      "source": [
        "02_double_list"
      ],
      "metadata": {
        "id": "3Oy7PtecbmQD"
      }
    },
    {
      "cell_type": "code",
      "source": [
        "def double_elements(numbers):\n",
        "    # Doubles each element in the list\n",
        "    return [x * 2 for x in numbers]\n",
        "\n",
        "if __name__ == '__main__':\n",
        "    # Example list of numbers\n",
        "    numbers = [1, 2, 3, 4]\n",
        "\n",
        "    # Call the function to double the elements\n",
        "    numbers = double_elements(numbers)\n",
        "\n",
        "    # Print the updated list\n",
        "    print(numbers)\n",
        "if __name__ == '__main__':\n",
        "    double_elements(numbers)\n"
      ],
      "metadata": {
        "id": "6h4Sk1vYbnTf",
        "outputId": "70f4ccf9-3d8f-44a1-a861-660b00309488",
        "colab": {
          "base_uri": "https://localhost:8080/"
        }
      },
      "execution_count": null,
      "outputs": [
        {
          "output_type": "stream",
          "name": "stdout",
          "text": [
            "[2, 4, 6, 8]\n"
          ]
        }
      ]
    },
    {
      "cell_type": "markdown",
      "source": [
        "03_erase_canvas"
      ],
      "metadata": {
        "id": "hR6BJ3IjcQ7E"
      }
    },
    {
      "cell_type": "code",
      "source": [
        "from IPython.display import display, HTML\n",
        "\n",
        "# Define the HTML + JavaScript code for the canvas with the grid and eraser\n",
        "html_code = \"\"\"\n",
        "<!DOCTYPE html>\n",
        "<html lang=\"en\">\n",
        "<head>\n",
        "    <meta charset=\"UTF-8\">\n",
        "    <meta name=\"viewport\" content=\"width=device-width, initial-scale=1.0\">\n",
        "    <title>Eraser on Canvas</title>\n",
        "    <style>\n",
        "        body { margin: 0; display: flex; justify-content: center; align-items: center; height: 100vh; background-color: #f0f0f0; }\n",
        "        canvas { border: 1px solid black; cursor: pointer; }\n",
        "    </style>\n",
        "</head>\n",
        "<body>\n",
        "    <canvas id=\"canvas\" width=\"400\" height=\"400\"></canvas>\n",
        "\n",
        "    <script>\n",
        "        const canvas = document.getElementById('canvas');\n",
        "        const ctx = canvas.getContext('2d');\n",
        "\n",
        "        // Grid settings\n",
        "        const cellSize = 40;\n",
        "        const rows = canvas.height / cellSize;\n",
        "        const cols = canvas.width / cellSize;\n",
        "\n",
        "        // Eraser settings\n",
        "        const eraserSize = 1;  // Size of the eraser (1x1 cell)\n",
        "\n",
        "        // Initialize grid of blue cells\n",
        "        function drawGrid() {\n",
        "            for (let row = 0; row < rows; row++) {\n",
        "                for (let col = 0; col < cols; col++) {\n",
        "                    ctx.fillStyle = 'blue';\n",
        "                    ctx.fillRect(col * cellSize, row * cellSize, cellSize, cellSize);\n",
        "                }\n",
        "            }\n",
        "        }\n",
        "\n",
        "        // Erase the cells under the eraser\n",
        "        function eraseCells(x, y) {\n",
        "            // Determine the grid coordinates of the cell under the mouse\n",
        "            const col = Math.floor(x / cellSize);\n",
        "            const row = Math.floor(y / cellSize);\n",
        "\n",
        "            // Change the color of the cell to white (erase it)\n",
        "            ctx.fillStyle = 'white';\n",
        "            ctx.fillRect(col * cellSize, row * cellSize, cellSize, cellSize);\n",
        "        }\n",
        "\n",
        "        // Handle mouse dragging for the eraser\n",
        "        let isEraserActive = false;\n",
        "\n",
        "        canvas.addEventListener('mousedown', (e) => {\n",
        "            isEraserActive = true;\n",
        "            eraseCells(e.offsetX, e.offsetY);\n",
        "        });\n",
        "\n",
        "        canvas.addEventListener('mousemove', (e) => {\n",
        "            if (isEraserActive) {\n",
        "                eraseCells(e.offsetX, e.offsetY);\n",
        "            }\n",
        "        });\n",
        "\n",
        "        canvas.addEventListener('mouseup', () => {\n",
        "            isEraserActive = false;\n",
        "        });\n",
        "\n",
        "        // Draw the initial grid\n",
        "        drawGrid();\n",
        "    </script>\n",
        "</body>\n",
        "</html>\n",
        "\"\"\"\n",
        "\n",
        "# Display the HTML content in Google Colab\n",
        "display(HTML(html_code))\n"
      ],
      "metadata": {
        "colab": {
          "base_uri": "https://localhost:8080/",
          "height": 1000
        },
        "id": "juBe5WmedzSa",
        "outputId": "09040291-3587-4528-9e70-e5f11eace5ce"
      },
      "execution_count": null,
      "outputs": [
        {
          "output_type": "display_data",
          "data": {
            "text/plain": [
              "<IPython.core.display.HTML object>"
            ],
            "text/html": [
              "\n",
              "<!DOCTYPE html>\n",
              "<html lang=\"en\">\n",
              "<head>\n",
              "    <meta charset=\"UTF-8\">\n",
              "    <meta name=\"viewport\" content=\"width=device-width, initial-scale=1.0\">\n",
              "    <title>Eraser on Canvas</title>\n",
              "    <style>\n",
              "        body { margin: 0; display: flex; justify-content: center; align-items: center; height: 100vh; background-color: #f0f0f0; }\n",
              "        canvas { border: 1px solid black; cursor: pointer; }\n",
              "    </style>\n",
              "</head>\n",
              "<body>\n",
              "    <canvas id=\"canvas\" width=\"400\" height=\"400\"></canvas>\n",
              "\n",
              "    <script>\n",
              "        const canvas = document.getElementById('canvas');\n",
              "        const ctx = canvas.getContext('2d');\n",
              "        \n",
              "        // Grid settings\n",
              "        const cellSize = 40;\n",
              "        const rows = canvas.height / cellSize;\n",
              "        const cols = canvas.width / cellSize;\n",
              "        \n",
              "        // Eraser settings\n",
              "        const eraserSize = 1;  // Size of the eraser (1x1 cell)\n",
              "        \n",
              "        // Initialize grid of blue cells\n",
              "        function drawGrid() {\n",
              "            for (let row = 0; row < rows; row++) {\n",
              "                for (let col = 0; col < cols; col++) {\n",
              "                    ctx.fillStyle = 'blue';\n",
              "                    ctx.fillRect(col * cellSize, row * cellSize, cellSize, cellSize);\n",
              "                }\n",
              "            }\n",
              "        }\n",
              "        \n",
              "        // Erase the cells under the eraser\n",
              "        function eraseCells(x, y) {\n",
              "            // Determine the grid coordinates of the cell under the mouse\n",
              "            const col = Math.floor(x / cellSize);\n",
              "            const row = Math.floor(y / cellSize);\n",
              "            \n",
              "            // Change the color of the cell to white (erase it)\n",
              "            ctx.fillStyle = 'white';\n",
              "            ctx.fillRect(col * cellSize, row * cellSize, cellSize, cellSize);\n",
              "        }\n",
              "        \n",
              "        // Handle mouse dragging for the eraser\n",
              "        let isEraserActive = false;\n",
              "        \n",
              "        canvas.addEventListener('mousedown', (e) => {\n",
              "            isEraserActive = true;\n",
              "            eraseCells(e.offsetX, e.offsetY);\n",
              "        });\n",
              "        \n",
              "        canvas.addEventListener('mousemove', (e) => {\n",
              "            if (isEraserActive) {\n",
              "                eraseCells(e.offsetX, e.offsetY);\n",
              "            }\n",
              "        });\n",
              "        \n",
              "        canvas.addEventListener('mouseup', () => {\n",
              "            isEraserActive = false;\n",
              "        });\n",
              "        \n",
              "        // Draw the initial grid\n",
              "        drawGrid();\n",
              "    </script>\n",
              "</body>\n",
              "</html>\n"
            ]
          },
          "metadata": {}
        }
      ]
    },
    {
      "cell_type": "markdown",
      "source": [
        "04_flowing_with_data_structures"
      ],
      "metadata": {
        "id": "GcpgADgsd9Tj"
      }
    },
    {
      "cell_type": "code",
      "source": [
        "def add_three_copies(my_list, data):\n",
        "    # Add three copies of 'data' to 'my_list'\n",
        "    my_list.append(data)\n",
        "    my_list.append(data)\n",
        "    my_list.append(data)\n",
        "\n",
        "# Main program\n",
        "message = input(\"Enter a message to copy: \")\n",
        "\n",
        "# Initialize an empty list\n",
        "my_list = []\n",
        "\n",
        "# Show the list before modification\n",
        "print(\"List before:\", my_list)\n",
        "\n",
        "# Call the function to add three copies of the message\n",
        "add_three_copies(my_list, message)\n",
        "\n",
        "# Show the list after modification\n",
        "print(\"List after:\", my_list)\n",
        "if __name__ == '__main__':\n",
        "  add_three_copies(my_list, message)\n"
      ],
      "metadata": {
        "colab": {
          "base_uri": "https://localhost:8080/"
        },
        "id": "pIfeiDr_eFcr",
        "outputId": "326f2053-c9a6-4b63-e00d-d9d4bb1d730c"
      },
      "execution_count": null,
      "outputs": [
        {
          "output_type": "stream",
          "name": "stdout",
          "text": [
            "Enter a message to copy: hello\n",
            "List before: []\n",
            "List after: ['hello', 'hello', 'hello']\n"
          ]
        }
      ]
    },
    {
      "cell_type": "markdown",
      "source": [
        "05_get_first_element"
      ],
      "metadata": {
        "id": "xAghXxNmgSJ9"
      }
    },
    {
      "cell_type": "code",
      "source": [
        "def get_first_element(lst):\n",
        "    # Print the first element in the list\n",
        "    print(lst[0])\n",
        "\n",
        "# Example of how you might get the list from user input:\n",
        "lst = []\n",
        "n = int(input(\"Enter the number of elements in the list: \"))\n",
        "\n",
        "# Prompt the user to enter each element one at a time\n",
        "for _ in range(n):\n",
        "    element = input(\"Enter an element: \")\n",
        "    lst.append(element)\n",
        "\n",
        "# Call the function to print the first element\n",
        "get_first_element(lst)\n",
        "if __name__ == '__main__':\n",
        "  get_first_element(lst)\n"
      ],
      "metadata": {
        "id": "03ow_bikgXtB",
        "colab": {
          "base_uri": "https://localhost:8080/"
        },
        "outputId": "da2e40f7-d231-4ae0-b233-a7f6fadeb9b0"
      },
      "execution_count": null,
      "outputs": [
        {
          "output_type": "stream",
          "name": "stdout",
          "text": [
            "Enter the number of elements in the list: 2\n",
            "Enter an element: 3\n",
            "Enter an element: 5\n",
            "3\n",
            "3\n"
          ]
        }
      ]
    },
    {
      "cell_type": "markdown",
      "source": [
        "06_get_last_element"
      ],
      "metadata": {
        "id": "hfoTq70fH7cC"
      }
    },
    {
      "cell_type": "code",
      "source": [
        "def get_last_element(lst):\n",
        "    # Print the last element in the list\n",
        "    print(lst[-1])\n",
        "\n",
        "# Example usage:\n",
        "lst = [10, 20, 30, 40, 50]\n",
        "if __name__ == '__main__':\n",
        " get_last_element(lst)\n"
      ],
      "metadata": {
        "colab": {
          "base_uri": "https://localhost:8080/"
        },
        "id": "BEZJWxkaH8sQ",
        "outputId": "618d2cfa-2a7c-4561-d8c3-dc8e8ecfbc49"
      },
      "execution_count": null,
      "outputs": [
        {
          "output_type": "stream",
          "name": "stdout",
          "text": [
            "50\n"
          ]
        }
      ]
    },
    {
      "cell_type": "markdown",
      "source": [
        "07_get_list"
      ],
      "metadata": {
        "id": "MkyVROvGI4m5"
      }
    },
    {
      "cell_type": "code",
      "source": [
        "def main():\n",
        "    values = []\n",
        "    while True:\n",
        "        user_input = input(\"\\033[94mEnter a value: \\033[0m\")  # User input prompt in blue\n",
        "        if not user_input:  # Check for empty input\n",
        "            break\n",
        "        values.append(user_input)\n",
        "\n",
        "    print(\"Here's the list:\", values)\n",
        "\n",
        "if __name__ == \"__main__\":\n",
        "    main()\n"
      ],
      "metadata": {
        "id": "IX1pPEQLMSV4",
        "outputId": "378d2587-411d-4425-b635-393505fed73c",
        "colab": {
          "base_uri": "https://localhost:8080/"
        }
      },
      "execution_count": null,
      "outputs": [
        {
          "name": "stdout",
          "output_type": "stream",
          "text": [
            "\u001b[94mEnter a value: \u001b[0m7\n"
          ]
        }
      ]
    },
    {
      "cell_type": "markdown",
      "source": [
        "08_shorten"
      ],
      "metadata": {
        "id": "opfhVZaPM5Wf"
      }
    },
    {
      "cell_type": "code",
      "source": [
        "MAX_LENGTH = 3  # Define MAX_LENGTH as per the instructions\n",
        "\n",
        "def shorten(lst):\n",
        "    # Check if the list is longer than MAX_LENGTH\n",
        "    while len(lst) > MAX_LENGTH:\n",
        "        # Remove the last element and print it\n",
        "        removed_item = lst.pop()\n",
        "        print(removed_item)\n",
        "\n",
        "# Example of how the main function might look like\n",
        "def main():\n",
        "    lst = [1, 2, 3, 4, 5]  # Example input list\n",
        "    shorten(lst)  # Pass the list to the shorten function\n",
        "    print(\"Final list:\", lst)\n",
        "\n",
        "# Run the main function to test\n",
        "main()\n"
      ],
      "metadata": {
        "id": "KqH-eB1XM_GL",
        "outputId": "b24270bc-0159-49ea-895f-0959c18aa260",
        "colab": {
          "base_uri": "https://localhost:8080/"
        }
      },
      "execution_count": null,
      "outputs": [
        {
          "output_type": "stream",
          "name": "stdout",
          "text": [
            "5\n",
            "4\n",
            "Final list: [1, 2, 3]\n"
          ]
        }
      ]
    }
  ]
}