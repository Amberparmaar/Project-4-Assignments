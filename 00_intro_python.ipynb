{
  "nbformat": 4,
  "nbformat_minor": 0,
  "metadata": {
    "colab": {
      "provenance": [],
      "authorship_tag": "ABX9TyOxAjJ6R/ttFoITa88d2C06",
      "include_colab_link": true
    },
    "kernelspec": {
      "name": "python3",
      "display_name": "Python 3"
    },
    "language_info": {
      "name": "python"
    }
  },
  "cells": [
    {
      "cell_type": "markdown",
      "metadata": {
        "id": "view-in-github",
        "colab_type": "text"
      },
      "source": [
        "<a href=\"https://colab.research.google.com/github/Amberparmaar/Project-4-Assignments/blob/main/00_intro_python.ipynb\" target=\"_parent\"><img src=\"https://colab.research.google.com/assets/colab-badge.svg\" alt=\"Open In Colab\"/></a>"
      ]
    },
    {
      "cell_type": "markdown",
      "source": [
        "01_add_two_numbers\n"
      ],
      "metadata": {
        "id": "xE0DLIR63hu7"
      }
    },
    {
      "cell_type": "code",
      "source": [
        "def add():\n",
        "  first_number = int(input(\"Enter your first number: \"))\n",
        "  second_number = int(input(\"Enter your second number: \"))\n",
        "  total = int(first_number + second_number)\n",
        "  print(f\"The sum of {first_number} & {second_number} is {total}\")\n",
        "if __name__ == '__main__':\n",
        "  add()"
      ],
      "metadata": {
        "colab": {
          "base_uri": "https://localhost:8080/"
        },
        "id": "deJEmZKu3jRD",
        "outputId": "cbf875ba-9f08-4956-d01c-73f6afe78120"
      },
      "execution_count": null,
      "outputs": [
        {
          "output_type": "stream",
          "name": "stdout",
          "text": [
            "Enter your first number: 13\n",
            "Enter your second number: 13\n",
            "The sum of 13 & 13 is 26\n"
          ]
        }
      ]
    },
    {
      "cell_type": "markdown",
      "source": [],
      "metadata": {
        "id": "vbl_5DzW72pI"
      }
    },
    {
      "cell_type": "markdown",
      "source": [
        "02_agreement_bot"
      ],
      "metadata": {
        "id": "YmXkOWmQ8QBO"
      }
    },
    {
      "cell_type": "code",
      "source": [
        "from IPython.display import display, Markdown\n",
        "\n",
        "def bot():\n",
        "    # Get user input\n",
        "    favourite_animal = input(\"What's your favorite animal? \")\n",
        "\n",
        "    # Display the response in markdown with bold and italics formatting\n",
        "    response = f\"My favourite animal is also **_{favourite_animal}_**!\"\n",
        "    display(Markdown(response))\n",
        "\n",
        "if __name__ == '__main__':\n",
        "    bot()"
      ],
      "metadata": {
        "colab": {
          "base_uri": "https://localhost:8080/",
          "height": 64
        },
        "id": "5R9h9lNb8R7D",
        "outputId": "4b5fdca9-ced7-472e-8869-2ab11a687f74"
      },
      "execution_count": null,
      "outputs": [
        {
          "name": "stdout",
          "output_type": "stream",
          "text": [
            "What's your favorite animal? dog\n"
          ]
        },
        {
          "output_type": "display_data",
          "data": {
            "text/plain": [
              "<IPython.core.display.Markdown object>"
            ],
            "text/markdown": "My favourite animal is also **_dog_**!"
          },
          "metadata": {}
        }
      ]
    },
    {
      "cell_type": "markdown",
      "source": [
        "03_fahrenheit_to_celsius"
      ],
      "metadata": {
        "id": "7hzQexTC9oQN"
      }
    },
    {
      "cell_type": "code",
      "source": [
        "def temp():\n",
        "  fahrenheit = float(input(\"Enter the temperature in Fahrenheit: \"))\n",
        "  celsius = (fahrenheit - 32) * 5/9\n",
        "  print(f\"The temperature in {fahrenheit}F is: {celsius}C\")\n",
        "if __name__ == '__main__':\n",
        "  temp()"
      ],
      "metadata": {
        "colab": {
          "base_uri": "https://localhost:8080/"
        },
        "id": "ByiiN1Za9t7E",
        "outputId": "1fbc8628-aa17-4991-d7df-d53bb1ede6a6"
      },
      "execution_count": null,
      "outputs": [
        {
          "output_type": "stream",
          "name": "stdout",
          "text": [
            "Enter the temperature in Fahrenheit: 76\n",
            "The temperature in 76.0F is: 24.444444444444443C\n"
          ]
        }
      ]
    },
    {
      "cell_type": "markdown",
      "source": [
        "04_how_old_are_they"
      ],
      "metadata": {
        "id": "lrJ16mOsBwpU"
      }
    },
    {
      "cell_type": "code",
      "source": [
        "def ages():\n",
        "    anton = 21  # Anton's age is 21\n",
        "    beth = anton + 6  # Beth is 6 years older than Anton\n",
        "    chen = beth + 20  # Chen is 20 years older than Beth\n",
        "    drew = chen + anton  # Drew is the sum of Chen's and Anton's ages\n",
        "    ethan = chen  # Ethan is the same age as Chen\n",
        "\n",
        "    # Print out all of the ages using f-strings\n",
        "    print(f\"Anton is {anton}\")\n",
        "    print(f\"Beth is {beth}\")\n",
        "    print(f\"Chen is {chen}\")\n",
        "    print(f\"Drew is {drew}\")\n",
        "    print(f\"Ethan is {ethan}\")\n",
        "\n",
        "if __name__ == '__main__':\n",
        "  ages()"
      ],
      "metadata": {
        "colab": {
          "base_uri": "https://localhost:8080/"
        },
        "id": "zFwlgIHHB3lK",
        "outputId": "f46c71b7-8c20-44ae-f217-f48db42628ad"
      },
      "execution_count": null,
      "outputs": [
        {
          "output_type": "stream",
          "name": "stdout",
          "text": [
            "Anton is 21\n",
            "Beth is 27\n",
            "Chen is 47\n",
            "Drew is 68\n",
            "Ethan is 47\n"
          ]
        }
      ]
    },
    {
      "cell_type": "markdown",
      "source": [
        "05_triangle_perimeter"
      ],
      "metadata": {
        "id": "7wZMlOQQFjiv"
      }
    },
    {
      "cell_type": "code",
      "source": [
        "from IPython.display import display, Markdown\n",
        "\n",
        "def sum_of_triangle():\n",
        "    # Get the user input\n",
        "    side1 = float(input(\"Enter the first side of the triangle: \"))\n",
        "    side2 = float(input(\"Enter the second side of the triangle: \"))\n",
        "    side3 = float(input(\"Enter the third side of the triangle: \"))\n",
        "\n",
        "    # Calculate the perimeter\n",
        "    total = side1 + side2 + side3\n",
        "\n",
        "    # Format the result and display it with Markdown for bold italics\n",
        "    result = f\"The perimeter of the triangle is **_{total}_**\"\n",
        "    display(Markdown(result))\n",
        "\n",
        "if __name__ == '__main__':\n",
        "    sum_of_triangle()"
      ],
      "metadata": {
        "colab": {
          "base_uri": "https://localhost:8080/",
          "height": 98
        },
        "id": "eDvlWLYwFnjY",
        "outputId": "f4632bd7-80a9-4946-962a-bbdf915709eb"
      },
      "execution_count": null,
      "outputs": [
        {
          "name": "stdout",
          "output_type": "stream",
          "text": [
            "Enter the first side of the triangle: 4\n",
            "Enter the second side of the triangle: 6\n",
            "Enter the third side of the triangle: 8\n"
          ]
        },
        {
          "output_type": "display_data",
          "data": {
            "text/plain": [
              "<IPython.core.display.Markdown object>"
            ],
            "text/markdown": "The perimeter of the triangle is **_18.0_**"
          },
          "metadata": {}
        }
      ]
    },
    {
      "cell_type": "markdown",
      "source": [
        "06_square_number"
      ],
      "metadata": {
        "id": "5jB3jIbHIOqG"
      }
    },
    {
      "cell_type": "code",
      "source": [
        "from IPython.display import display, Markdown\n",
        "\n",
        "def square():\n",
        "    # Get the user input\n",
        "    number : float = float(input(\"Type a number to see its square: \"))\n",
        "\n",
        "    # Convert the input to float\n",
        "    number = float(number)\n",
        "\n",
        "    # Calculate the square\n",
        "    square = number * number\n",
        "\n",
        "    # Display the result with the user input in bold italics\n",
        "    result = f\"The square of **_{number}_** is **_{square}_**\"\n",
        "    display(Markdown(result))\n",
        "\n",
        "if __name__ == '__main__':\n",
        "    square()\n"
      ],
      "metadata": {
        "colab": {
          "base_uri": "https://localhost:8080/",
          "height": 64
        },
        "id": "De_0k48XIUve",
        "outputId": "82d9bb06-99d1-4a88-c45c-3e07c757be62"
      },
      "execution_count": null,
      "outputs": [
        {
          "name": "stdout",
          "output_type": "stream",
          "text": [
            "Type a number to see its square: 4\n"
          ]
        },
        {
          "output_type": "display_data",
          "data": {
            "text/plain": [
              "<IPython.core.display.Markdown object>"
            ],
            "text/markdown": "The square of **_4.0_** is **_16.0_**"
          },
          "metadata": {}
        }
      ]
    }
  ]
}